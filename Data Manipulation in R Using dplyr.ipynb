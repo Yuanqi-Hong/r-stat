{
 "cells": [
  {
   "cell_type": "markdown",
   "metadata": {},
   "source": [
    "These are notes taken during a Brown Institute / Data Science event on Sep 25, 2018. The dataset used in this event/workshop is the Titanic data from [Kaggle](https://www.kaggle.com/).  \n",
    "  \n",
    "`dplyr` is part of `tidyverse` and it is recommended that we use `tidyverse` instead of just using `dplyr`. I'm using `dplyr` here because I didn't install `tidyverse` at the time of the event.\n",
    "\n",
    "`dplyr` is great because of multiple reasons. For instance, it's fast, and it has piping."
   ]
  },
  {
   "cell_type": "markdown",
   "metadata": {},
   "source": [
    "## Basics"
   ]
  },
  {
   "cell_type": "code",
   "execution_count": 1,
   "metadata": {
    "scrolled": true
   },
   "outputs": [
    {
     "name": "stderr",
     "output_type": "stream",
     "text": [
      "Warning message:\n",
      "“package ‘dplyr’ was built under R version 3.5.1”\n",
      "Attaching package: ‘dplyr’\n",
      "\n",
      "The following objects are masked from ‘package:stats’:\n",
      "\n",
      "    filter, lag\n",
      "\n",
      "The following objects are masked from ‘package:base’:\n",
      "\n",
      "    intersect, setdiff, setequal, union\n",
      "\n"
     ]
    }
   ],
   "source": [
    "library(dplyr)\n",
    "library(purrr)"
   ]
  },
  {
   "cell_type": "markdown",
   "metadata": {},
   "source": [
    "It seems that if you use `tidyverse` instead of `dplyr`, you'll do `read_csv` instead of `read.csv`."
   ]
  },
  {
   "cell_type": "code",
   "execution_count": 2,
   "metadata": {},
   "outputs": [],
   "source": [
    "# I downloaded the data directly from Kaggle\n",
    "# and here I'm reading in the training dataset\n",
    "titanic_df <- read.csv('./Titanic dataset/train.csv')"
   ]
  },
  {
   "cell_type": "code",
   "execution_count": 3,
   "metadata": {},
   "outputs": [
    {
     "data": {
      "text/html": [
       "<table>\n",
       "<thead><tr><th scope=col>PassengerId</th><th scope=col>Survived</th><th scope=col>Pclass</th><th scope=col>Name</th><th scope=col>Sex</th><th scope=col>Age</th><th scope=col>SibSp</th><th scope=col>Parch</th><th scope=col>Ticket</th><th scope=col>Fare</th><th scope=col>Cabin</th><th scope=col>Embarked</th></tr></thead>\n",
       "<tbody>\n",
       "\t<tr><td>1                                                  </td><td>0                                                  </td><td>3                                                  </td><td>Braund, Mr. Owen Harris                            </td><td>male                                               </td><td>22                                                 </td><td>1                                                  </td><td>0                                                  </td><td>A/5 21171                                          </td><td> 7.2500                                            </td><td>                                                   </td><td>S                                                  </td></tr>\n",
       "\t<tr><td>2                                                  </td><td>1                                                  </td><td>1                                                  </td><td>Cumings, Mrs. John Bradley (Florence Briggs Thayer)</td><td>female                                             </td><td>38                                                 </td><td>1                                                  </td><td>0                                                  </td><td>PC 17599                                           </td><td>71.2833                                            </td><td>C85                                                </td><td>C                                                  </td></tr>\n",
       "\t<tr><td>3                                                  </td><td>1                                                  </td><td>3                                                  </td><td>Heikkinen, Miss. Laina                             </td><td>female                                             </td><td>26                                                 </td><td>0                                                  </td><td>0                                                  </td><td>STON/O2. 3101282                                   </td><td> 7.9250                                            </td><td>                                                   </td><td>S                                                  </td></tr>\n",
       "\t<tr><td>4                                                  </td><td>1                                                  </td><td>1                                                  </td><td>Futrelle, Mrs. Jacques Heath (Lily May Peel)       </td><td>female                                             </td><td>35                                                 </td><td>1                                                  </td><td>0                                                  </td><td>113803                                             </td><td>53.1000                                            </td><td>C123                                               </td><td>S                                                  </td></tr>\n",
       "\t<tr><td>5                                                  </td><td>0                                                  </td><td>3                                                  </td><td>Allen, Mr. William Henry                           </td><td>male                                               </td><td>35                                                 </td><td>0                                                  </td><td>0                                                  </td><td>373450                                             </td><td> 8.0500                                            </td><td>                                                   </td><td>S                                                  </td></tr>\n",
       "\t<tr><td>6                                                  </td><td>0                                                  </td><td>3                                                  </td><td>Moran, Mr. James                                   </td><td>male                                               </td><td>NA                                                 </td><td>0                                                  </td><td>0                                                  </td><td>330877                                             </td><td> 8.4583                                            </td><td>                                                   </td><td>Q                                                  </td></tr>\n",
       "</tbody>\n",
       "</table>\n"
      ],
      "text/latex": [
       "\\begin{tabular}{r|llllllllllll}\n",
       " PassengerId & Survived & Pclass & Name & Sex & Age & SibSp & Parch & Ticket & Fare & Cabin & Embarked\\\\\n",
       "\\hline\n",
       "\t 1                                                   & 0                                                   & 3                                                   & Braund, Mr. Owen Harris                             & male                                                & 22                                                  & 1                                                   & 0                                                   & A/5 21171                                           &  7.2500                                             &                                                     & S                                                  \\\\\n",
       "\t 2                                                   & 1                                                   & 1                                                   & Cumings, Mrs. John Bradley (Florence Briggs Thayer) & female                                              & 38                                                  & 1                                                   & 0                                                   & PC 17599                                            & 71.2833                                             & C85                                                 & C                                                  \\\\\n",
       "\t 3                                                   & 1                                                   & 3                                                   & Heikkinen, Miss. Laina                              & female                                              & 26                                                  & 0                                                   & 0                                                   & STON/O2. 3101282                                    &  7.9250                                             &                                                     & S                                                  \\\\\n",
       "\t 4                                                   & 1                                                   & 1                                                   & Futrelle, Mrs. Jacques Heath (Lily May Peel)        & female                                              & 35                                                  & 1                                                   & 0                                                   & 113803                                              & 53.1000                                             & C123                                                & S                                                  \\\\\n",
       "\t 5                                                   & 0                                                   & 3                                                   & Allen, Mr. William Henry                            & male                                                & 35                                                  & 0                                                   & 0                                                   & 373450                                              &  8.0500                                             &                                                     & S                                                  \\\\\n",
       "\t 6                                                   & 0                                                   & 3                                                   & Moran, Mr. James                                    & male                                                & NA                                                  & 0                                                   & 0                                                   & 330877                                              &  8.4583                                             &                                                     & Q                                                  \\\\\n",
       "\\end{tabular}\n"
      ],
      "text/markdown": [
       "\n",
       "PassengerId | Survived | Pclass | Name | Sex | Age | SibSp | Parch | Ticket | Fare | Cabin | Embarked | \n",
       "|---|---|---|---|---|---|\n",
       "| 1                                                   | 0                                                   | 3                                                   | Braund, Mr. Owen Harris                             | male                                                | 22                                                  | 1                                                   | 0                                                   | A/5 21171                                           |  7.2500                                             |                                                     | S                                                   | \n",
       "| 2                                                   | 1                                                   | 1                                                   | Cumings, Mrs. John Bradley (Florence Briggs Thayer) | female                                              | 38                                                  | 1                                                   | 0                                                   | PC 17599                                            | 71.2833                                             | C85                                                 | C                                                   | \n",
       "| 3                                                   | 1                                                   | 3                                                   | Heikkinen, Miss. Laina                              | female                                              | 26                                                  | 0                                                   | 0                                                   | STON/O2. 3101282                                    |  7.9250                                             |                                                     | S                                                   | \n",
       "| 4                                                   | 1                                                   | 1                                                   | Futrelle, Mrs. Jacques Heath (Lily May Peel)        | female                                              | 35                                                  | 1                                                   | 0                                                   | 113803                                              | 53.1000                                             | C123                                                | S                                                   | \n",
       "| 5                                                   | 0                                                   | 3                                                   | Allen, Mr. William Henry                            | male                                                | 35                                                  | 0                                                   | 0                                                   | 373450                                              |  8.0500                                             |                                                     | S                                                   | \n",
       "| 6                                                   | 0                                                   | 3                                                   | Moran, Mr. James                                    | male                                                | NA                                                  | 0                                                   | 0                                                   | 330877                                              |  8.4583                                             |                                                     | Q                                                   | \n",
       "\n",
       "\n"
      ],
      "text/plain": [
       "  PassengerId Survived Pclass\n",
       "1 1           0        3     \n",
       "2 2           1        1     \n",
       "3 3           1        3     \n",
       "4 4           1        1     \n",
       "5 5           0        3     \n",
       "6 6           0        3     \n",
       "  Name                                                Sex    Age SibSp Parch\n",
       "1 Braund, Mr. Owen Harris                             male   22  1     0    \n",
       "2 Cumings, Mrs. John Bradley (Florence Briggs Thayer) female 38  1     0    \n",
       "3 Heikkinen, Miss. Laina                              female 26  0     0    \n",
       "4 Futrelle, Mrs. Jacques Heath (Lily May Peel)        female 35  1     0    \n",
       "5 Allen, Mr. William Henry                            male   35  0     0    \n",
       "6 Moran, Mr. James                                    male   NA  0     0    \n",
       "  Ticket           Fare    Cabin Embarked\n",
       "1 A/5 21171         7.2500       S       \n",
       "2 PC 17599         71.2833 C85   C       \n",
       "3 STON/O2. 3101282  7.9250       S       \n",
       "4 113803           53.1000 C123  S       \n",
       "5 373450            8.0500       S       \n",
       "6 330877            8.4583       Q       "
      ]
     },
     "metadata": {},
     "output_type": "display_data"
    }
   ],
   "source": [
    "head(titanic_df)"
   ]
  },
  {
   "cell_type": "code",
   "execution_count": 4,
   "metadata": {},
   "outputs": [
    {
     "data": {
      "text/html": [
       "<table>\n",
       "<thead><tr><th></th><th scope=col>PassengerId</th><th scope=col>Survived</th><th scope=col>Pclass</th><th scope=col>Name</th><th scope=col>Sex</th><th scope=col>Age</th><th scope=col>SibSp</th><th scope=col>Parch</th><th scope=col>Ticket</th><th scope=col>Fare</th><th scope=col>Cabin</th><th scope=col>Embarked</th></tr></thead>\n",
       "<tbody>\n",
       "\t<tr><th scope=row>886</th><td>886                                     </td><td>0                                       </td><td>3                                       </td><td>Rice, Mrs. William (Margaret Norton)    </td><td>female                                  </td><td>39                                      </td><td>0                                       </td><td>5                                       </td><td>382652                                  </td><td>29.125                                  </td><td>                                        </td><td>Q                                       </td></tr>\n",
       "\t<tr><th scope=row>887</th><td>887                                     </td><td>0                                       </td><td>2                                       </td><td>Montvila, Rev. Juozas                   </td><td>male                                    </td><td>27                                      </td><td>0                                       </td><td>0                                       </td><td>211536                                  </td><td>13.000                                  </td><td>                                        </td><td>S                                       </td></tr>\n",
       "\t<tr><th scope=row>888</th><td>888                                     </td><td>1                                       </td><td>1                                       </td><td>Graham, Miss. Margaret Edith            </td><td>female                                  </td><td>19                                      </td><td>0                                       </td><td>0                                       </td><td>112053                                  </td><td>30.000                                  </td><td>B42                                     </td><td>S                                       </td></tr>\n",
       "\t<tr><th scope=row>889</th><td>889                                     </td><td>0                                       </td><td>3                                       </td><td>Johnston, Miss. Catherine Helen \"Carrie\"</td><td>female                                  </td><td>NA                                      </td><td>1                                       </td><td>2                                       </td><td>W./C. 6607                              </td><td>23.450                                  </td><td>                                        </td><td>S                                       </td></tr>\n",
       "\t<tr><th scope=row>890</th><td>890                                     </td><td>1                                       </td><td>1                                       </td><td>Behr, Mr. Karl Howell                   </td><td>male                                    </td><td>26                                      </td><td>0                                       </td><td>0                                       </td><td>111369                                  </td><td>30.000                                  </td><td>C148                                    </td><td>C                                       </td></tr>\n",
       "\t<tr><th scope=row>891</th><td>891                                     </td><td>0                                       </td><td>3                                       </td><td>Dooley, Mr. Patrick                     </td><td>male                                    </td><td>32                                      </td><td>0                                       </td><td>0                                       </td><td>370376                                  </td><td> 7.750                                  </td><td>                                        </td><td>Q                                       </td></tr>\n",
       "</tbody>\n",
       "</table>\n"
      ],
      "text/latex": [
       "\\begin{tabular}{r|llllllllllll}\n",
       "  & PassengerId & Survived & Pclass & Name & Sex & Age & SibSp & Parch & Ticket & Fare & Cabin & Embarked\\\\\n",
       "\\hline\n",
       "\t886 & 886                                      & 0                                        & 3                                        & Rice, Mrs. William (Margaret Norton)     & female                                   & 39                                       & 0                                        & 5                                        & 382652                                   & 29.125                                   &                                          & Q                                       \\\\\n",
       "\t887 & 887                                      & 0                                        & 2                                        & Montvila, Rev. Juozas                    & male                                     & 27                                       & 0                                        & 0                                        & 211536                                   & 13.000                                   &                                          & S                                       \\\\\n",
       "\t888 & 888                                      & 1                                        & 1                                        & Graham, Miss. Margaret Edith             & female                                   & 19                                       & 0                                        & 0                                        & 112053                                   & 30.000                                   & B42                                      & S                                       \\\\\n",
       "\t889 & 889                                      & 0                                        & 3                                        & Johnston, Miss. Catherine Helen \"Carrie\" & female                                   & NA                                       & 1                                        & 2                                        & W./C. 6607                               & 23.450                                   &                                          & S                                       \\\\\n",
       "\t890 & 890                                      & 1                                        & 1                                        & Behr, Mr. Karl Howell                    & male                                     & 26                                       & 0                                        & 0                                        & 111369                                   & 30.000                                   & C148                                     & C                                       \\\\\n",
       "\t891 & 891                                      & 0                                        & 3                                        & Dooley, Mr. Patrick                      & male                                     & 32                                       & 0                                        & 0                                        & 370376                                   &  7.750                                   &                                          & Q                                       \\\\\n",
       "\\end{tabular}\n"
      ],
      "text/markdown": [
       "\n",
       "| <!--/--> | PassengerId | Survived | Pclass | Name | Sex | Age | SibSp | Parch | Ticket | Fare | Cabin | Embarked | \n",
       "|---|---|---|---|---|---|\n",
       "| 886 | 886                                      | 0                                        | 3                                        | Rice, Mrs. William (Margaret Norton)     | female                                   | 39                                       | 0                                        | 5                                        | 382652                                   | 29.125                                   |                                          | Q                                        | \n",
       "| 887 | 887                                      | 0                                        | 2                                        | Montvila, Rev. Juozas                    | male                                     | 27                                       | 0                                        | 0                                        | 211536                                   | 13.000                                   |                                          | S                                        | \n",
       "| 888 | 888                                      | 1                                        | 1                                        | Graham, Miss. Margaret Edith             | female                                   | 19                                       | 0                                        | 0                                        | 112053                                   | 30.000                                   | B42                                      | S                                        | \n",
       "| 889 | 889                                      | 0                                        | 3                                        | Johnston, Miss. Catherine Helen \"Carrie\" | female                                   | NA                                       | 1                                        | 2                                        | W./C. 6607                               | 23.450                                   |                                          | S                                        | \n",
       "| 890 | 890                                      | 1                                        | 1                                        | Behr, Mr. Karl Howell                    | male                                     | 26                                       | 0                                        | 0                                        | 111369                                   | 30.000                                   | C148                                     | C                                        | \n",
       "| 891 | 891                                      | 0                                        | 3                                        | Dooley, Mr. Patrick                      | male                                     | 32                                       | 0                                        | 0                                        | 370376                                   |  7.750                                   |                                          | Q                                        | \n",
       "\n",
       "\n"
      ],
      "text/plain": [
       "    PassengerId Survived Pclass Name                                     Sex   \n",
       "886 886         0        3      Rice, Mrs. William (Margaret Norton)     female\n",
       "887 887         0        2      Montvila, Rev. Juozas                    male  \n",
       "888 888         1        1      Graham, Miss. Margaret Edith             female\n",
       "889 889         0        3      Johnston, Miss. Catherine Helen \"Carrie\" female\n",
       "890 890         1        1      Behr, Mr. Karl Howell                    male  \n",
       "891 891         0        3      Dooley, Mr. Patrick                      male  \n",
       "    Age SibSp Parch Ticket     Fare   Cabin Embarked\n",
       "886 39  0     5     382652     29.125       Q       \n",
       "887 27  0     0     211536     13.000       S       \n",
       "888 19  0     0     112053     30.000 B42   S       \n",
       "889 NA  1     2     W./C. 6607 23.450       S       \n",
       "890 26  0     0     111369     30.000 C148  C       \n",
       "891 32  0     0     370376      7.750       Q       "
      ]
     },
     "metadata": {},
     "output_type": "display_data"
    }
   ],
   "source": [
    "tail(titanic_df)"
   ]
  },
  {
   "cell_type": "code",
   "execution_count": 5,
   "metadata": {},
   "outputs": [
    {
     "data": {
      "text/html": [
       "<ol class=list-inline>\n",
       "\t<li>891</li>\n",
       "\t<li>12</li>\n",
       "</ol>\n"
      ],
      "text/latex": [
       "\\begin{enumerate*}\n",
       "\\item 891\n",
       "\\item 12\n",
       "\\end{enumerate*}\n"
      ],
      "text/markdown": [
       "1. 891\n",
       "2. 12\n",
       "\n",
       "\n"
      ],
      "text/plain": [
       "[1] 891  12"
      ]
     },
     "metadata": {},
     "output_type": "display_data"
    }
   ],
   "source": [
    "# dim means dimension\n",
    "dim(titanic_df)"
   ]
  },
  {
   "cell_type": "code",
   "execution_count": 6,
   "metadata": {
    "scrolled": true
   },
   "outputs": [
    {
     "data": {
      "text/html": [
       "<table>\n",
       "<thead><tr><th scope=col>Survived</th></tr></thead>\n",
       "<tbody>\n",
       "\t<tr><td>0</td></tr>\n",
       "\t<tr><td>1</td></tr>\n",
       "\t<tr><td>1</td></tr>\n",
       "\t<tr><td>1</td></tr>\n",
       "\t<tr><td>0</td></tr>\n",
       "\t<tr><td>0</td></tr>\n",
       "\t<tr><td>0</td></tr>\n",
       "\t<tr><td>0</td></tr>\n",
       "\t<tr><td>1</td></tr>\n",
       "\t<tr><td>1</td></tr>\n",
       "\t<tr><td>1</td></tr>\n",
       "\t<tr><td>1</td></tr>\n",
       "\t<tr><td>0</td></tr>\n",
       "\t<tr><td>0</td></tr>\n",
       "\t<tr><td>0</td></tr>\n",
       "\t<tr><td>1</td></tr>\n",
       "\t<tr><td>0</td></tr>\n",
       "\t<tr><td>1</td></tr>\n",
       "\t<tr><td>0</td></tr>\n",
       "\t<tr><td>1</td></tr>\n",
       "\t<tr><td>0</td></tr>\n",
       "\t<tr><td>1</td></tr>\n",
       "\t<tr><td>1</td></tr>\n",
       "\t<tr><td>1</td></tr>\n",
       "\t<tr><td>0</td></tr>\n",
       "\t<tr><td>1</td></tr>\n",
       "\t<tr><td>0</td></tr>\n",
       "\t<tr><td>0</td></tr>\n",
       "\t<tr><td>1</td></tr>\n",
       "\t<tr><td>0</td></tr>\n",
       "\t<tr><td>⋮</td></tr>\n",
       "\t<tr><td>0</td></tr>\n",
       "\t<tr><td>1</td></tr>\n",
       "\t<tr><td>0</td></tr>\n",
       "\t<tr><td>0</td></tr>\n",
       "\t<tr><td>1</td></tr>\n",
       "\t<tr><td>1</td></tr>\n",
       "\t<tr><td>0</td></tr>\n",
       "\t<tr><td>0</td></tr>\n",
       "\t<tr><td>1</td></tr>\n",
       "\t<tr><td>0</td></tr>\n",
       "\t<tr><td>1</td></tr>\n",
       "\t<tr><td>0</td></tr>\n",
       "\t<tr><td>0</td></tr>\n",
       "\t<tr><td>1</td></tr>\n",
       "\t<tr><td>1</td></tr>\n",
       "\t<tr><td>0</td></tr>\n",
       "\t<tr><td>0</td></tr>\n",
       "\t<tr><td>0</td></tr>\n",
       "\t<tr><td>1</td></tr>\n",
       "\t<tr><td>1</td></tr>\n",
       "\t<tr><td>0</td></tr>\n",
       "\t<tr><td>0</td></tr>\n",
       "\t<tr><td>0</td></tr>\n",
       "\t<tr><td>0</td></tr>\n",
       "\t<tr><td>0</td></tr>\n",
       "\t<tr><td>0</td></tr>\n",
       "\t<tr><td>1</td></tr>\n",
       "\t<tr><td>0</td></tr>\n",
       "\t<tr><td>1</td></tr>\n",
       "\t<tr><td>0</td></tr>\n",
       "</tbody>\n",
       "</table>\n"
      ],
      "text/latex": [
       "\\begin{tabular}{r|l}\n",
       " Survived\\\\\n",
       "\\hline\n",
       "\t 0\\\\\n",
       "\t 1\\\\\n",
       "\t 1\\\\\n",
       "\t 1\\\\\n",
       "\t 0\\\\\n",
       "\t 0\\\\\n",
       "\t 0\\\\\n",
       "\t 0\\\\\n",
       "\t 1\\\\\n",
       "\t 1\\\\\n",
       "\t 1\\\\\n",
       "\t 1\\\\\n",
       "\t 0\\\\\n",
       "\t 0\\\\\n",
       "\t 0\\\\\n",
       "\t 1\\\\\n",
       "\t 0\\\\\n",
       "\t 1\\\\\n",
       "\t 0\\\\\n",
       "\t 1\\\\\n",
       "\t 0\\\\\n",
       "\t 1\\\\\n",
       "\t 1\\\\\n",
       "\t 1\\\\\n",
       "\t 0\\\\\n",
       "\t 1\\\\\n",
       "\t 0\\\\\n",
       "\t 0\\\\\n",
       "\t 1\\\\\n",
       "\t 0\\\\\n",
       "\t ⋮\\\\\n",
       "\t 0\\\\\n",
       "\t 1\\\\\n",
       "\t 0\\\\\n",
       "\t 0\\\\\n",
       "\t 1\\\\\n",
       "\t 1\\\\\n",
       "\t 0\\\\\n",
       "\t 0\\\\\n",
       "\t 1\\\\\n",
       "\t 0\\\\\n",
       "\t 1\\\\\n",
       "\t 0\\\\\n",
       "\t 0\\\\\n",
       "\t 1\\\\\n",
       "\t 1\\\\\n",
       "\t 0\\\\\n",
       "\t 0\\\\\n",
       "\t 0\\\\\n",
       "\t 1\\\\\n",
       "\t 1\\\\\n",
       "\t 0\\\\\n",
       "\t 0\\\\\n",
       "\t 0\\\\\n",
       "\t 0\\\\\n",
       "\t 0\\\\\n",
       "\t 0\\\\\n",
       "\t 1\\\\\n",
       "\t 0\\\\\n",
       "\t 1\\\\\n",
       "\t 0\\\\\n",
       "\\end{tabular}\n"
      ],
      "text/markdown": [
       "\n",
       "Survived | \n",
       "|---|---|---|---|---|---|---|---|---|---|---|---|---|---|---|---|---|---|---|---|---|---|---|---|---|---|---|---|---|---|---|---|---|---|---|---|---|---|---|---|---|---|---|---|---|---|---|---|---|---|---|---|---|---|---|---|---|---|---|---|---|\n",
       "| 0 | \n",
       "| 1 | \n",
       "| 1 | \n",
       "| 1 | \n",
       "| 0 | \n",
       "| 0 | \n",
       "| 0 | \n",
       "| 0 | \n",
       "| 1 | \n",
       "| 1 | \n",
       "| 1 | \n",
       "| 1 | \n",
       "| 0 | \n",
       "| 0 | \n",
       "| 0 | \n",
       "| 1 | \n",
       "| 0 | \n",
       "| 1 | \n",
       "| 0 | \n",
       "| 1 | \n",
       "| 0 | \n",
       "| 1 | \n",
       "| 1 | \n",
       "| 1 | \n",
       "| 0 | \n",
       "| 1 | \n",
       "| 0 | \n",
       "| 0 | \n",
       "| 1 | \n",
       "| 0 | \n",
       "| ⋮ | \n",
       "| 0 | \n",
       "| 1 | \n",
       "| 0 | \n",
       "| 0 | \n",
       "| 1 | \n",
       "| 1 | \n",
       "| 0 | \n",
       "| 0 | \n",
       "| 1 | \n",
       "| 0 | \n",
       "| 1 | \n",
       "| 0 | \n",
       "| 0 | \n",
       "| 1 | \n",
       "| 1 | \n",
       "| 0 | \n",
       "| 0 | \n",
       "| 0 | \n",
       "| 1 | \n",
       "| 1 | \n",
       "| 0 | \n",
       "| 0 | \n",
       "| 0 | \n",
       "| 0 | \n",
       "| 0 | \n",
       "| 0 | \n",
       "| 1 | \n",
       "| 0 | \n",
       "| 1 | \n",
       "| 0 | \n",
       "\n",
       "\n"
      ],
      "text/plain": [
       "    Survived\n",
       "1   0       \n",
       "2   1       \n",
       "3   1       \n",
       "4   1       \n",
       "5   0       \n",
       "6   0       \n",
       "7   0       \n",
       "8   0       \n",
       "9   1       \n",
       "10  1       \n",
       "11  1       \n",
       "12  1       \n",
       "13  0       \n",
       "14  0       \n",
       "15  0       \n",
       "16  1       \n",
       "17  0       \n",
       "18  1       \n",
       "19  0       \n",
       "20  1       \n",
       "21  0       \n",
       "22  1       \n",
       "23  1       \n",
       "24  1       \n",
       "25  0       \n",
       "26  1       \n",
       "27  0       \n",
       "28  0       \n",
       "29  1       \n",
       "30  0       \n",
       "⋮   ⋮       \n",
       "862 0       \n",
       "863 1       \n",
       "864 0       \n",
       "865 0       \n",
       "866 1       \n",
       "867 1       \n",
       "868 0       \n",
       "869 0       \n",
       "870 1       \n",
       "871 0       \n",
       "872 1       \n",
       "873 0       \n",
       "874 0       \n",
       "875 1       \n",
       "876 1       \n",
       "877 0       \n",
       "878 0       \n",
       "879 0       \n",
       "880 1       \n",
       "881 1       \n",
       "882 0       \n",
       "883 0       \n",
       "884 0       \n",
       "885 0       \n",
       "886 0       \n",
       "887 0       \n",
       "888 1       \n",
       "889 0       \n",
       "890 1       \n",
       "891 0       "
      ]
     },
     "metadata": {},
     "output_type": "display_data"
    }
   ],
   "source": [
    "# getting one column\n",
    "titanic_df['Survived']"
   ]
  },
  {
   "cell_type": "markdown",
   "metadata": {},
   "source": [
    "Two other ways of doing the above:  \n",
    "`titanic_df$Survived` is old-fashioned;  \n",
    "`titanic_df[2]` is not recommended."
   ]
  },
  {
   "cell_type": "code",
   "execution_count": 7,
   "metadata": {},
   "outputs": [
    {
     "data": {
      "text/html": [
       "<table>\n",
       "<thead><tr><th scope=col>PassengerId</th><th scope=col>Survived</th><th scope=col>Pclass</th><th scope=col>Name</th><th scope=col>Sex</th><th scope=col>Age</th><th scope=col>SibSp</th><th scope=col>Parch</th><th scope=col>Ticket</th><th scope=col>Fare</th><th scope=col>Cabin</th><th scope=col>Embarked</th></tr></thead>\n",
       "<tbody>\n",
       "\t<tr><td>1                      </td><td>0                      </td><td>3                      </td><td>Braund, Mr. Owen Harris</td><td>male                   </td><td>22                     </td><td>1                      </td><td>0                      </td><td>A/5 21171              </td><td>7.25                   </td><td>                       </td><td>S                      </td></tr>\n",
       "</tbody>\n",
       "</table>\n"
      ],
      "text/latex": [
       "\\begin{tabular}{r|llllllllllll}\n",
       " PassengerId & Survived & Pclass & Name & Sex & Age & SibSp & Parch & Ticket & Fare & Cabin & Embarked\\\\\n",
       "\\hline\n",
       "\t 1                       & 0                       & 3                       & Braund, Mr. Owen Harris & male                    & 22                      & 1                       & 0                       & A/5 21171               & 7.25                    &                         & S                      \\\\\n",
       "\\end{tabular}\n"
      ],
      "text/markdown": [
       "\n",
       "PassengerId | Survived | Pclass | Name | Sex | Age | SibSp | Parch | Ticket | Fare | Cabin | Embarked | \n",
       "|---|\n",
       "| 1                       | 0                       | 3                       | Braund, Mr. Owen Harris | male                    | 22                      | 1                       | 0                       | A/5 21171               | 7.25                    |                         | S                       | \n",
       "\n",
       "\n"
      ],
      "text/plain": [
       "  PassengerId Survived Pclass Name                    Sex  Age SibSp Parch\n",
       "1 1           0        3      Braund, Mr. Owen Harris male 22  1     0    \n",
       "  Ticket    Fare Cabin Embarked\n",
       "1 A/5 21171 7.25       S       "
      ]
     },
     "metadata": {},
     "output_type": "display_data"
    }
   ],
   "source": [
    "titanic_df[1,]"
   ]
  },
  {
   "cell_type": "code",
   "execution_count": 8,
   "metadata": {},
   "outputs": [
    {
     "data": {
      "text/html": [
       "0"
      ],
      "text/latex": [
       "0"
      ],
      "text/markdown": [
       "0"
      ],
      "text/plain": [
       "[1] 0"
      ]
     },
     "metadata": {},
     "output_type": "display_data"
    }
   ],
   "source": [
    "titanic_df[1, 'Survived']"
   ]
  },
  {
   "cell_type": "markdown",
   "metadata": {},
   "source": [
    "## Four basic operations in `dplyr`\n",
    "\n",
    "- **select**\n",
    "- **filter**\n",
    "- **arrange**\n",
    "- **mutate**"
   ]
  },
  {
   "cell_type": "markdown",
   "metadata": {},
   "source": [
    "### select"
   ]
  },
  {
   "cell_type": "code",
   "execution_count": 9,
   "metadata": {},
   "outputs": [],
   "source": [
    "titanic_df_Survived <- select(titanic_df, Survived, Pclass)"
   ]
  },
  {
   "cell_type": "code",
   "execution_count": 10,
   "metadata": {},
   "outputs": [],
   "source": [
    "# OR\n",
    "titanic_df_Survived <- select(titanic_df, `Survived`, `Pclass`)\n",
    "# note the backticks"
   ]
  },
  {
   "cell_type": "code",
   "execution_count": 11,
   "metadata": {},
   "outputs": [],
   "source": [
    "# contd\n",
    "# to drop columns, use the -c() notation\n",
    "titanic_df_without_Name_and_Age <- select(titanic_df, -c(Name, Age))"
   ]
  },
  {
   "cell_type": "markdown",
   "metadata": {},
   "source": [
    "### filter"
   ]
  },
  {
   "cell_type": "code",
   "execution_count": 12,
   "metadata": {},
   "outputs": [],
   "source": [
    "df_kids <- filter(titanic_df, Age<10)"
   ]
  },
  {
   "cell_type": "code",
   "execution_count": 13,
   "metadata": {},
   "outputs": [],
   "source": [
    "df_male_kids_survived <- filter(titanic_df, Age<10, Sex==\"male\", Survived==1)"
   ]
  },
  {
   "cell_type": "code",
   "execution_count": 14,
   "metadata": {},
   "outputs": [],
   "source": [
    "df_small_kids_dead <- filter(titanic_df, Age<2, Survived==0)"
   ]
  },
  {
   "cell_type": "code",
   "execution_count": 15,
   "metadata": {},
   "outputs": [
    {
     "data": {
      "text/html": [
       "<table>\n",
       "<thead><tr><th scope=col>Name</th></tr></thead>\n",
       "<tbody>\n",
       "\t<tr><td>Panula, Master. Eino Viljami   </td></tr>\n",
       "\t<tr><td>Goodwin, Master. Sidney Leonard</td></tr>\n",
       "</tbody>\n",
       "</table>\n"
      ],
      "text/latex": [
       "\\begin{tabular}{r|l}\n",
       " Name\\\\\n",
       "\\hline\n",
       "\t Panula, Master. Eino Viljami   \\\\\n",
       "\t Goodwin, Master. Sidney Leonard\\\\\n",
       "\\end{tabular}\n"
      ],
      "text/markdown": [
       "\n",
       "Name | \n",
       "|---|---|\n",
       "| Panula, Master. Eino Viljami    | \n",
       "| Goodwin, Master. Sidney Leonard | \n",
       "\n",
       "\n"
      ],
      "text/plain": [
       "  Name                           \n",
       "1 Panula, Master. Eino Viljami   \n",
       "2 Goodwin, Master. Sidney Leonard"
      ]
     },
     "metadata": {},
     "output_type": "display_data"
    }
   ],
   "source": [
    "select(df_small_kids_dead, Name)"
   ]
  },
  {
   "cell_type": "markdown",
   "metadata": {},
   "source": [
    "### arrange"
   ]
  },
  {
   "cell_type": "code",
   "execution_count": 16,
   "metadata": {
    "scrolled": true
   },
   "outputs": [
    {
     "data": {
      "text/html": [
       "<table>\n",
       "<thead><tr><th scope=col>PassengerId</th><th scope=col>Survived</th><th scope=col>Pclass</th><th scope=col>Name</th><th scope=col>Sex</th><th scope=col>Age</th><th scope=col>SibSp</th><th scope=col>Parch</th><th scope=col>Ticket</th><th scope=col>Fare</th><th scope=col>Cabin</th><th scope=col>Embarked</th></tr></thead>\n",
       "<tbody>\n",
       "\t<tr><td>303                            </td><td>0                              </td><td>3                              </td><td>Johnson, Mr. William Cahoone Jr</td><td>male                           </td><td>19                             </td><td>0                              </td><td>0                              </td><td>LINE                           </td><td>0                              </td><td>                               </td><td>S                              </td></tr>\n",
       "\t<tr><td>272                            </td><td>1                              </td><td>3                              </td><td>Tornquist, Mr. William Henry   </td><td>male                           </td><td>25                             </td><td>0                              </td><td>0                              </td><td>LINE                           </td><td>0                              </td><td>                               </td><td>S                              </td></tr>\n",
       "\t<tr><td>180                            </td><td>0                              </td><td>3                              </td><td>Leonard, Mr. Lionel            </td><td>male                           </td><td>36                             </td><td>0                              </td><td>0                              </td><td>LINE                           </td><td>0                              </td><td>                               </td><td>S                              </td></tr>\n",
       "\t<tr><td>823                            </td><td>0                              </td><td>1                              </td><td>Reuchlin, Jonkheer. John George</td><td>male                           </td><td>38                             </td><td>0                              </td><td>0                              </td><td>19972                          </td><td>0                              </td><td>                               </td><td>S                              </td></tr>\n",
       "\t<tr><td>807                            </td><td>0                              </td><td>1                              </td><td>Andrews, Mr. Thomas Jr         </td><td>male                           </td><td>39                             </td><td>0                              </td><td>0                              </td><td>112050                         </td><td>0                              </td><td>A36                            </td><td>S                              </td></tr>\n",
       "\t<tr><td>264                            </td><td>0                              </td><td>1                              </td><td>Harrison, Mr. William          </td><td>male                           </td><td>40                             </td><td>0                              </td><td>0                              </td><td>112059                         </td><td>0                              </td><td>B94                            </td><td>S                              </td></tr>\n",
       "</tbody>\n",
       "</table>\n"
      ],
      "text/latex": [
       "\\begin{tabular}{r|llllllllllll}\n",
       " PassengerId & Survived & Pclass & Name & Sex & Age & SibSp & Parch & Ticket & Fare & Cabin & Embarked\\\\\n",
       "\\hline\n",
       "\t 303                             & 0                               & 3                               & Johnson, Mr. William Cahoone Jr & male                            & 19                              & 0                               & 0                               & LINE                            & 0                               &                                 & S                              \\\\\n",
       "\t 272                             & 1                               & 3                               & Tornquist, Mr. William Henry    & male                            & 25                              & 0                               & 0                               & LINE                            & 0                               &                                 & S                              \\\\\n",
       "\t 180                             & 0                               & 3                               & Leonard, Mr. Lionel             & male                            & 36                              & 0                               & 0                               & LINE                            & 0                               &                                 & S                              \\\\\n",
       "\t 823                             & 0                               & 1                               & Reuchlin, Jonkheer. John George & male                            & 38                              & 0                               & 0                               & 19972                           & 0                               &                                 & S                              \\\\\n",
       "\t 807                             & 0                               & 1                               & Andrews, Mr. Thomas Jr          & male                            & 39                              & 0                               & 0                               & 112050                          & 0                               & A36                             & S                              \\\\\n",
       "\t 264                             & 0                               & 1                               & Harrison, Mr. William           & male                            & 40                              & 0                               & 0                               & 112059                          & 0                               & B94                             & S                              \\\\\n",
       "\\end{tabular}\n"
      ],
      "text/markdown": [
       "\n",
       "PassengerId | Survived | Pclass | Name | Sex | Age | SibSp | Parch | Ticket | Fare | Cabin | Embarked | \n",
       "|---|---|---|---|---|---|\n",
       "| 303                             | 0                               | 3                               | Johnson, Mr. William Cahoone Jr | male                            | 19                              | 0                               | 0                               | LINE                            | 0                               |                                 | S                               | \n",
       "| 272                             | 1                               | 3                               | Tornquist, Mr. William Henry    | male                            | 25                              | 0                               | 0                               | LINE                            | 0                               |                                 | S                               | \n",
       "| 180                             | 0                               | 3                               | Leonard, Mr. Lionel             | male                            | 36                              | 0                               | 0                               | LINE                            | 0                               |                                 | S                               | \n",
       "| 823                             | 0                               | 1                               | Reuchlin, Jonkheer. John George | male                            | 38                              | 0                               | 0                               | 19972                           | 0                               |                                 | S                               | \n",
       "| 807                             | 0                               | 1                               | Andrews, Mr. Thomas Jr          | male                            | 39                              | 0                               | 0                               | 112050                          | 0                               | A36                             | S                               | \n",
       "| 264                             | 0                               | 1                               | Harrison, Mr. William           | male                            | 40                              | 0                               | 0                               | 112059                          | 0                               | B94                             | S                               | \n",
       "\n",
       "\n"
      ],
      "text/plain": [
       "  PassengerId Survived Pclass Name                            Sex  Age SibSp\n",
       "1 303         0        3      Johnson, Mr. William Cahoone Jr male 19  0    \n",
       "2 272         1        3      Tornquist, Mr. William Henry    male 25  0    \n",
       "3 180         0        3      Leonard, Mr. Lionel             male 36  0    \n",
       "4 823         0        1      Reuchlin, Jonkheer. John George male 38  0    \n",
       "5 807         0        1      Andrews, Mr. Thomas Jr          male 39  0    \n",
       "6 264         0        1      Harrison, Mr. William           male 40  0    \n",
       "  Parch Ticket Fare Cabin Embarked\n",
       "1 0     LINE   0          S       \n",
       "2 0     LINE   0          S       \n",
       "3 0     LINE   0          S       \n",
       "4 0     19972  0          S       \n",
       "5 0     112050 0    A36   S       \n",
       "6 0     112059 0    B94   S       "
      ]
     },
     "metadata": {},
     "output_type": "display_data"
    }
   ],
   "source": [
    "# arrange\n",
    "# sort df by a given column (or columns)\n",
    "titanic_df_sorted <- arrange(titanic_df, Fare, Age)\n",
    "head(titanic_df_sorted)"
   ]
  },
  {
   "cell_type": "code",
   "execution_count": 17,
   "metadata": {
    "scrolled": true
   },
   "outputs": [
    {
     "data": {
      "text/html": [
       "<table>\n",
       "<thead><tr><th scope=col>PassengerId</th><th scope=col>Survived</th><th scope=col>Pclass</th><th scope=col>Name</th><th scope=col>Sex</th><th scope=col>Age</th><th scope=col>SibSp</th><th scope=col>Parch</th><th scope=col>Ticket</th><th scope=col>Fare</th><th scope=col>Cabin</th><th scope=col>Embarked</th></tr></thead>\n",
       "<tbody>\n",
       "\t<tr><td>259                               </td><td>1                                 </td><td>1                                 </td><td>Ward, Miss. Anna                  </td><td>female                            </td><td>35                                </td><td>0                                 </td><td>0                                 </td><td>PC 17755                          </td><td>512.3292                          </td><td>                                  </td><td>C                                 </td></tr>\n",
       "\t<tr><td>738                               </td><td>1                                 </td><td>1                                 </td><td>Lesurer, Mr. Gustave J            </td><td>male                              </td><td>35                                </td><td>0                                 </td><td>0                                 </td><td>PC 17755                          </td><td>512.3292                          </td><td>B101                              </td><td>C                                 </td></tr>\n",
       "\t<tr><td>680                               </td><td>1                                 </td><td>1                                 </td><td>Cardeza, Mr. Thomas Drake Martinez</td><td>male                              </td><td>36                                </td><td>0                                 </td><td>1                                 </td><td>PC 17755                          </td><td>512.3292                          </td><td>B51 B53 B55                       </td><td>C                                 </td></tr>\n",
       "\t<tr><td> 28                               </td><td>0                                 </td><td>1                                 </td><td>Fortune, Mr. Charles Alexander    </td><td>male                              </td><td>19                                </td><td>3                                 </td><td>2                                 </td><td>19950                             </td><td>263.0000                          </td><td>C23 C25 C27                       </td><td>S                                 </td></tr>\n",
       "\t<tr><td> 89                               </td><td>1                                 </td><td>1                                 </td><td>Fortune, Miss. Mabel Helen        </td><td>female                            </td><td>23                                </td><td>3                                 </td><td>2                                 </td><td>19950                             </td><td>263.0000                          </td><td>C23 C25 C27                       </td><td>S                                 </td></tr>\n",
       "\t<tr><td>342                               </td><td>1                                 </td><td>1                                 </td><td>Fortune, Miss. Alice Elizabeth    </td><td>female                            </td><td>24                                </td><td>3                                 </td><td>2                                 </td><td>19950                             </td><td>263.0000                          </td><td>C23 C25 C27                       </td><td>S                                 </td></tr>\n",
       "</tbody>\n",
       "</table>\n"
      ],
      "text/latex": [
       "\\begin{tabular}{r|llllllllllll}\n",
       " PassengerId & Survived & Pclass & Name & Sex & Age & SibSp & Parch & Ticket & Fare & Cabin & Embarked\\\\\n",
       "\\hline\n",
       "\t 259                                & 1                                  & 1                                  & Ward, Miss. Anna                   & female                             & 35                                 & 0                                  & 0                                  & PC 17755                           & 512.3292                           &                                    & C                                 \\\\\n",
       "\t 738                                & 1                                  & 1                                  & Lesurer, Mr. Gustave J             & male                               & 35                                 & 0                                  & 0                                  & PC 17755                           & 512.3292                           & B101                               & C                                 \\\\\n",
       "\t 680                                & 1                                  & 1                                  & Cardeza, Mr. Thomas Drake Martinez & male                               & 36                                 & 0                                  & 1                                  & PC 17755                           & 512.3292                           & B51 B53 B55                        & C                                 \\\\\n",
       "\t  28                                & 0                                  & 1                                  & Fortune, Mr. Charles Alexander     & male                               & 19                                 & 3                                  & 2                                  & 19950                              & 263.0000                           & C23 C25 C27                        & S                                 \\\\\n",
       "\t  89                                & 1                                  & 1                                  & Fortune, Miss. Mabel Helen         & female                             & 23                                 & 3                                  & 2                                  & 19950                              & 263.0000                           & C23 C25 C27                        & S                                 \\\\\n",
       "\t 342                                & 1                                  & 1                                  & Fortune, Miss. Alice Elizabeth     & female                             & 24                                 & 3                                  & 2                                  & 19950                              & 263.0000                           & C23 C25 C27                        & S                                 \\\\\n",
       "\\end{tabular}\n"
      ],
      "text/markdown": [
       "\n",
       "PassengerId | Survived | Pclass | Name | Sex | Age | SibSp | Parch | Ticket | Fare | Cabin | Embarked | \n",
       "|---|---|---|---|---|---|\n",
       "| 259                                | 1                                  | 1                                  | Ward, Miss. Anna                   | female                             | 35                                 | 0                                  | 0                                  | PC 17755                           | 512.3292                           |                                    | C                                  | \n",
       "| 738                                | 1                                  | 1                                  | Lesurer, Mr. Gustave J             | male                               | 35                                 | 0                                  | 0                                  | PC 17755                           | 512.3292                           | B101                               | C                                  | \n",
       "| 680                                | 1                                  | 1                                  | Cardeza, Mr. Thomas Drake Martinez | male                               | 36                                 | 0                                  | 1                                  | PC 17755                           | 512.3292                           | B51 B53 B55                        | C                                  | \n",
       "|  28                                | 0                                  | 1                                  | Fortune, Mr. Charles Alexander     | male                               | 19                                 | 3                                  | 2                                  | 19950                              | 263.0000                           | C23 C25 C27                        | S                                  | \n",
       "|  89                                | 1                                  | 1                                  | Fortune, Miss. Mabel Helen         | female                             | 23                                 | 3                                  | 2                                  | 19950                              | 263.0000                           | C23 C25 C27                        | S                                  | \n",
       "| 342                                | 1                                  | 1                                  | Fortune, Miss. Alice Elizabeth     | female                             | 24                                 | 3                                  | 2                                  | 19950                              | 263.0000                           | C23 C25 C27                        | S                                  | \n",
       "\n",
       "\n"
      ],
      "text/plain": [
       "  PassengerId Survived Pclass Name                               Sex    Age\n",
       "1 259         1        1      Ward, Miss. Anna                   female 35 \n",
       "2 738         1        1      Lesurer, Mr. Gustave J             male   35 \n",
       "3 680         1        1      Cardeza, Mr. Thomas Drake Martinez male   36 \n",
       "4  28         0        1      Fortune, Mr. Charles Alexander     male   19 \n",
       "5  89         1        1      Fortune, Miss. Mabel Helen         female 23 \n",
       "6 342         1        1      Fortune, Miss. Alice Elizabeth     female 24 \n",
       "  SibSp Parch Ticket   Fare     Cabin       Embarked\n",
       "1 0     0     PC 17755 512.3292             C       \n",
       "2 0     0     PC 17755 512.3292 B101        C       \n",
       "3 0     1     PC 17755 512.3292 B51 B53 B55 C       \n",
       "4 3     2     19950    263.0000 C23 C25 C27 S       \n",
       "5 3     2     19950    263.0000 C23 C25 C27 S       \n",
       "6 3     2     19950    263.0000 C23 C25 C27 S       "
      ]
     },
     "metadata": {},
     "output_type": "display_data"
    }
   ],
   "source": [
    "titanic_df_expensive <- arrange(titanic_df, desc(Fare), Age)\n",
    "head(titanic_df_expensive)"
   ]
  },
  {
   "cell_type": "markdown",
   "metadata": {},
   "source": [
    "### mutate"
   ]
  },
  {
   "cell_type": "code",
   "execution_count": 18,
   "metadata": {},
   "outputs": [
    {
     "data": {
      "text/html": [
       "<table>\n",
       "<thead><tr><th scope=col>PassengerId</th><th scope=col>Survived</th><th scope=col>Pclass</th><th scope=col>Name</th><th scope=col>Sex</th><th scope=col>Age</th><th scope=col>SibSp</th><th scope=col>Parch</th><th scope=col>Ticket</th><th scope=col>Fare</th><th scope=col>Cabin</th><th scope=col>Embarked</th><th scope=col>kid_indicator</th></tr></thead>\n",
       "<tbody>\n",
       "\t<tr><td>1                                                  </td><td>0                                                  </td><td>3                                                  </td><td>Braund, Mr. Owen Harris                            </td><td>male                                               </td><td>22                                                 </td><td>1                                                  </td><td>0                                                  </td><td>A/5 21171                                          </td><td> 7.2500                                            </td><td>                                                   </td><td>S                                                  </td><td> 0                                                 </td></tr>\n",
       "\t<tr><td>2                                                  </td><td>1                                                  </td><td>1                                                  </td><td>Cumings, Mrs. John Bradley (Florence Briggs Thayer)</td><td>female                                             </td><td>38                                                 </td><td>1                                                  </td><td>0                                                  </td><td>PC 17599                                           </td><td>71.2833                                            </td><td>C85                                                </td><td>C                                                  </td><td> 0                                                 </td></tr>\n",
       "\t<tr><td>3                                                  </td><td>1                                                  </td><td>3                                                  </td><td>Heikkinen, Miss. Laina                             </td><td>female                                             </td><td>26                                                 </td><td>0                                                  </td><td>0                                                  </td><td>STON/O2. 3101282                                   </td><td> 7.9250                                            </td><td>                                                   </td><td>S                                                  </td><td> 0                                                 </td></tr>\n",
       "\t<tr><td>4                                                  </td><td>1                                                  </td><td>1                                                  </td><td>Futrelle, Mrs. Jacques Heath (Lily May Peel)       </td><td>female                                             </td><td>35                                                 </td><td>1                                                  </td><td>0                                                  </td><td>113803                                             </td><td>53.1000                                            </td><td>C123                                               </td><td>S                                                  </td><td> 0                                                 </td></tr>\n",
       "\t<tr><td>5                                                  </td><td>0                                                  </td><td>3                                                  </td><td>Allen, Mr. William Henry                           </td><td>male                                               </td><td>35                                                 </td><td>0                                                  </td><td>0                                                  </td><td>373450                                             </td><td> 8.0500                                            </td><td>                                                   </td><td>S                                                  </td><td> 0                                                 </td></tr>\n",
       "\t<tr><td>6                                                  </td><td>0                                                  </td><td>3                                                  </td><td>Moran, Mr. James                                   </td><td>male                                               </td><td>NA                                                 </td><td>0                                                  </td><td>0                                                  </td><td>330877                                             </td><td> 8.4583                                            </td><td>                                                   </td><td>Q                                                  </td><td>NA                                                 </td></tr>\n",
       "</tbody>\n",
       "</table>\n"
      ],
      "text/latex": [
       "\\begin{tabular}{r|lllllllllllll}\n",
       " PassengerId & Survived & Pclass & Name & Sex & Age & SibSp & Parch & Ticket & Fare & Cabin & Embarked & kid\\_indicator\\\\\n",
       "\\hline\n",
       "\t 1                                                   & 0                                                   & 3                                                   & Braund, Mr. Owen Harris                             & male                                                & 22                                                  & 1                                                   & 0                                                   & A/5 21171                                           &  7.2500                                             &                                                     & S                                                   &  0                                                 \\\\\n",
       "\t 2                                                   & 1                                                   & 1                                                   & Cumings, Mrs. John Bradley (Florence Briggs Thayer) & female                                              & 38                                                  & 1                                                   & 0                                                   & PC 17599                                            & 71.2833                                             & C85                                                 & C                                                   &  0                                                 \\\\\n",
       "\t 3                                                   & 1                                                   & 3                                                   & Heikkinen, Miss. Laina                              & female                                              & 26                                                  & 0                                                   & 0                                                   & STON/O2. 3101282                                    &  7.9250                                             &                                                     & S                                                   &  0                                                 \\\\\n",
       "\t 4                                                   & 1                                                   & 1                                                   & Futrelle, Mrs. Jacques Heath (Lily May Peel)        & female                                              & 35                                                  & 1                                                   & 0                                                   & 113803                                              & 53.1000                                             & C123                                                & S                                                   &  0                                                 \\\\\n",
       "\t 5                                                   & 0                                                   & 3                                                   & Allen, Mr. William Henry                            & male                                                & 35                                                  & 0                                                   & 0                                                   & 373450                                              &  8.0500                                             &                                                     & S                                                   &  0                                                 \\\\\n",
       "\t 6                                                   & 0                                                   & 3                                                   & Moran, Mr. James                                    & male                                                & NA                                                  & 0                                                   & 0                                                   & 330877                                              &  8.4583                                             &                                                     & Q                                                   & NA                                                 \\\\\n",
       "\\end{tabular}\n"
      ],
      "text/markdown": [
       "\n",
       "PassengerId | Survived | Pclass | Name | Sex | Age | SibSp | Parch | Ticket | Fare | Cabin | Embarked | kid_indicator | \n",
       "|---|---|---|---|---|---|\n",
       "| 1                                                   | 0                                                   | 3                                                   | Braund, Mr. Owen Harris                             | male                                                | 22                                                  | 1                                                   | 0                                                   | A/5 21171                                           |  7.2500                                             |                                                     | S                                                   |  0                                                  | \n",
       "| 2                                                   | 1                                                   | 1                                                   | Cumings, Mrs. John Bradley (Florence Briggs Thayer) | female                                              | 38                                                  | 1                                                   | 0                                                   | PC 17599                                            | 71.2833                                             | C85                                                 | C                                                   |  0                                                  | \n",
       "| 3                                                   | 1                                                   | 3                                                   | Heikkinen, Miss. Laina                              | female                                              | 26                                                  | 0                                                   | 0                                                   | STON/O2. 3101282                                    |  7.9250                                             |                                                     | S                                                   |  0                                                  | \n",
       "| 4                                                   | 1                                                   | 1                                                   | Futrelle, Mrs. Jacques Heath (Lily May Peel)        | female                                              | 35                                                  | 1                                                   | 0                                                   | 113803                                              | 53.1000                                             | C123                                                | S                                                   |  0                                                  | \n",
       "| 5                                                   | 0                                                   | 3                                                   | Allen, Mr. William Henry                            | male                                                | 35                                                  | 0                                                   | 0                                                   | 373450                                              |  8.0500                                             |                                                     | S                                                   |  0                                                  | \n",
       "| 6                                                   | 0                                                   | 3                                                   | Moran, Mr. James                                    | male                                                | NA                                                  | 0                                                   | 0                                                   | 330877                                              |  8.4583                                             |                                                     | Q                                                   | NA                                                  | \n",
       "\n",
       "\n"
      ],
      "text/plain": [
       "  PassengerId Survived Pclass\n",
       "1 1           0        3     \n",
       "2 2           1        1     \n",
       "3 3           1        3     \n",
       "4 4           1        1     \n",
       "5 5           0        3     \n",
       "6 6           0        3     \n",
       "  Name                                                Sex    Age SibSp Parch\n",
       "1 Braund, Mr. Owen Harris                             male   22  1     0    \n",
       "2 Cumings, Mrs. John Bradley (Florence Briggs Thayer) female 38  1     0    \n",
       "3 Heikkinen, Miss. Laina                              female 26  0     0    \n",
       "4 Futrelle, Mrs. Jacques Heath (Lily May Peel)        female 35  1     0    \n",
       "5 Allen, Mr. William Henry                            male   35  0     0    \n",
       "6 Moran, Mr. James                                    male   NA  0     0    \n",
       "  Ticket           Fare    Cabin Embarked kid_indicator\n",
       "1 A/5 21171         7.2500       S         0           \n",
       "2 PC 17599         71.2833 C85   C         0           \n",
       "3 STON/O2. 3101282  7.9250       S         0           \n",
       "4 113803           53.1000 C123  S         0           \n",
       "5 373450            8.0500       S         0           \n",
       "6 330877            8.4583       Q        NA           "
      ]
     },
     "metadata": {},
     "output_type": "display_data"
    }
   ],
   "source": [
    "# add new columns (features) to a df\n",
    "# df_with_new_feature <- mutate(df, new_feature=f(current_features))\n",
    "titanic_df_modified <- mutate(titanic_df, kid_indicator=1*(Age<10))\n",
    "# the (Age<10) part returns a boolean and we multiply that by 1\n",
    "head(titanic_df_modified)"
   ]
  },
  {
   "cell_type": "code",
   "execution_count": 19,
   "metadata": {},
   "outputs": [],
   "source": [
    "# more examples of mutate\n",
    "df_new <- mutate(titanic_df, random=log10(Fare)+sqrt(Age))"
   ]
  },
  {
   "cell_type": "code",
   "execution_count": 20,
   "metadata": {
    "scrolled": true
   },
   "outputs": [
    {
     "data": {
      "text/html": [
       "<table>\n",
       "<thead><tr><th scope=col>PassengerId</th><th scope=col>Survived</th><th scope=col>Pclass</th><th scope=col>Name</th><th scope=col>Sex</th><th scope=col>Age</th><th scope=col>SibSp</th><th scope=col>Parch</th><th scope=col>Ticket</th><th scope=col>Fare</th><th scope=col>Cabin</th><th scope=col>Embarked</th><th scope=col>random</th></tr></thead>\n",
       "<tbody>\n",
       "\t<tr><td>1                                                  </td><td>0                                                  </td><td>3                                                  </td><td>Braund, Mr. Owen Harris                            </td><td>male                                               </td><td>22                                                 </td><td>1                                                  </td><td>0                                                  </td><td>A/5 21171                                          </td><td> 7.2500                                            </td><td>                                                   </td><td>S                                                  </td><td>5.550754                                           </td></tr>\n",
       "\t<tr><td>2                                                  </td><td>1                                                  </td><td>1                                                  </td><td>Cumings, Mrs. John Bradley (Florence Briggs Thayer)</td><td>female                                             </td><td>38                                                 </td><td>1                                                  </td><td>0                                                  </td><td>PC 17599                                           </td><td>71.2833                                            </td><td>C85                                                </td><td>C                                                  </td><td>8.017402                                           </td></tr>\n",
       "\t<tr><td>3                                                  </td><td>1                                                  </td><td>3                                                  </td><td>Heikkinen, Miss. Laina                             </td><td>female                                             </td><td>26                                                 </td><td>0                                                  </td><td>0                                                  </td><td>STON/O2. 3101282                                   </td><td> 7.9250                                            </td><td>                                                   </td><td>S                                                  </td><td>5.998019                                           </td></tr>\n",
       "\t<tr><td>4                                                  </td><td>1                                                  </td><td>1                                                  </td><td>Futrelle, Mrs. Jacques Heath (Lily May Peel)       </td><td>female                                             </td><td>35                                                 </td><td>1                                                  </td><td>0                                                  </td><td>113803                                             </td><td>53.1000                                            </td><td>C123                                               </td><td>S                                                  </td><td>7.641174                                           </td></tr>\n",
       "\t<tr><td>5                                                  </td><td>0                                                  </td><td>3                                                  </td><td>Allen, Mr. William Henry                           </td><td>male                                               </td><td>35                                                 </td><td>0                                                  </td><td>0                                                  </td><td>373450                                             </td><td> 8.0500                                            </td><td>                                                   </td><td>S                                                  </td><td>6.821876                                           </td></tr>\n",
       "\t<tr><td>6                                                  </td><td>0                                                  </td><td>3                                                  </td><td>Moran, Mr. James                                   </td><td>male                                               </td><td>NA                                                 </td><td>0                                                  </td><td>0                                                  </td><td>330877                                             </td><td> 8.4583                                            </td><td>                                                   </td><td>Q                                                  </td><td>      NA                                           </td></tr>\n",
       "</tbody>\n",
       "</table>\n"
      ],
      "text/latex": [
       "\\begin{tabular}{r|lllllllllllll}\n",
       " PassengerId & Survived & Pclass & Name & Sex & Age & SibSp & Parch & Ticket & Fare & Cabin & Embarked & random\\\\\n",
       "\\hline\n",
       "\t 1                                                   & 0                                                   & 3                                                   & Braund, Mr. Owen Harris                             & male                                                & 22                                                  & 1                                                   & 0                                                   & A/5 21171                                           &  7.2500                                             &                                                     & S                                                   & 5.550754                                           \\\\\n",
       "\t 2                                                   & 1                                                   & 1                                                   & Cumings, Mrs. John Bradley (Florence Briggs Thayer) & female                                              & 38                                                  & 1                                                   & 0                                                   & PC 17599                                            & 71.2833                                             & C85                                                 & C                                                   & 8.017402                                           \\\\\n",
       "\t 3                                                   & 1                                                   & 3                                                   & Heikkinen, Miss. Laina                              & female                                              & 26                                                  & 0                                                   & 0                                                   & STON/O2. 3101282                                    &  7.9250                                             &                                                     & S                                                   & 5.998019                                           \\\\\n",
       "\t 4                                                   & 1                                                   & 1                                                   & Futrelle, Mrs. Jacques Heath (Lily May Peel)        & female                                              & 35                                                  & 1                                                   & 0                                                   & 113803                                              & 53.1000                                             & C123                                                & S                                                   & 7.641174                                           \\\\\n",
       "\t 5                                                   & 0                                                   & 3                                                   & Allen, Mr. William Henry                            & male                                                & 35                                                  & 0                                                   & 0                                                   & 373450                                              &  8.0500                                             &                                                     & S                                                   & 6.821876                                           \\\\\n",
       "\t 6                                                   & 0                                                   & 3                                                   & Moran, Mr. James                                    & male                                                & NA                                                  & 0                                                   & 0                                                   & 330877                                              &  8.4583                                             &                                                     & Q                                                   &       NA                                           \\\\\n",
       "\\end{tabular}\n"
      ],
      "text/markdown": [
       "\n",
       "PassengerId | Survived | Pclass | Name | Sex | Age | SibSp | Parch | Ticket | Fare | Cabin | Embarked | random | \n",
       "|---|---|---|---|---|---|\n",
       "| 1                                                   | 0                                                   | 3                                                   | Braund, Mr. Owen Harris                             | male                                                | 22                                                  | 1                                                   | 0                                                   | A/5 21171                                           |  7.2500                                             |                                                     | S                                                   | 5.550754                                            | \n",
       "| 2                                                   | 1                                                   | 1                                                   | Cumings, Mrs. John Bradley (Florence Briggs Thayer) | female                                              | 38                                                  | 1                                                   | 0                                                   | PC 17599                                            | 71.2833                                             | C85                                                 | C                                                   | 8.017402                                            | \n",
       "| 3                                                   | 1                                                   | 3                                                   | Heikkinen, Miss. Laina                              | female                                              | 26                                                  | 0                                                   | 0                                                   | STON/O2. 3101282                                    |  7.9250                                             |                                                     | S                                                   | 5.998019                                            | \n",
       "| 4                                                   | 1                                                   | 1                                                   | Futrelle, Mrs. Jacques Heath (Lily May Peel)        | female                                              | 35                                                  | 1                                                   | 0                                                   | 113803                                              | 53.1000                                             | C123                                                | S                                                   | 7.641174                                            | \n",
       "| 5                                                   | 0                                                   | 3                                                   | Allen, Mr. William Henry                            | male                                                | 35                                                  | 0                                                   | 0                                                   | 373450                                              |  8.0500                                             |                                                     | S                                                   | 6.821876                                            | \n",
       "| 6                                                   | 0                                                   | 3                                                   | Moran, Mr. James                                    | male                                                | NA                                                  | 0                                                   | 0                                                   | 330877                                              |  8.4583                                             |                                                     | Q                                                   |       NA                                            | \n",
       "\n",
       "\n"
      ],
      "text/plain": [
       "  PassengerId Survived Pclass\n",
       "1 1           0        3     \n",
       "2 2           1        1     \n",
       "3 3           1        3     \n",
       "4 4           1        1     \n",
       "5 5           0        3     \n",
       "6 6           0        3     \n",
       "  Name                                                Sex    Age SibSp Parch\n",
       "1 Braund, Mr. Owen Harris                             male   22  1     0    \n",
       "2 Cumings, Mrs. John Bradley (Florence Briggs Thayer) female 38  1     0    \n",
       "3 Heikkinen, Miss. Laina                              female 26  0     0    \n",
       "4 Futrelle, Mrs. Jacques Heath (Lily May Peel)        female 35  1     0    \n",
       "5 Allen, Mr. William Henry                            male   35  0     0    \n",
       "6 Moran, Mr. James                                    male   NA  0     0    \n",
       "  Ticket           Fare    Cabin Embarked random  \n",
       "1 A/5 21171         7.2500       S        5.550754\n",
       "2 PC 17599         71.2833 C85   C        8.017402\n",
       "3 STON/O2. 3101282  7.9250       S        5.998019\n",
       "4 113803           53.1000 C123  S        7.641174\n",
       "5 373450            8.0500       S        6.821876\n",
       "6 330877            8.4583       Q              NA"
      ]
     },
     "metadata": {},
     "output_type": "display_data"
    }
   ],
   "source": [
    "head(df_new)"
   ]
  },
  {
   "cell_type": "code",
   "execution_count": 21,
   "metadata": {
    "scrolled": true
   },
   "outputs": [
    {
     "ename": "ERROR",
     "evalue": "Error in mutate_impl(.data, dots): Evaluation error: non-character argument.\n",
     "output_type": "error",
     "traceback": [
      "Error in mutate_impl(.data, dots): Evaluation error: non-character argument.\nTraceback:\n",
      "1. mutate(titanic_df, last_name = map(strsplit(Name, split = \",\"), \n .     1))",
      "2. mutate.data.frame(titanic_df, last_name = map(strsplit(Name, \n .     split = \",\"), 1))",
      "3. as.data.frame(mutate(tbl_df(.data), ...))",
      "4. mutate(tbl_df(.data), ...)",
      "5. mutate.tbl_df(tbl_df(.data), ...)",
      "6. mutate_impl(.data, dots)"
     ]
    }
   ],
   "source": [
    "# create a column with the last names of passengers\n",
    "df_new <- mutate(titanic_df, last_name=map(strsplit(Name,split=\",\"),1))\n",
    "# map() is a function in the purrr library to apply a given function to all elements of a list\n",
    "# strsplit() is a function in base R to split a string or a vector of strings\n",
    "\n",
    "# It's not working for me for now"
   ]
  },
  {
   "cell_type": "markdown",
   "metadata": {},
   "source": [
    "## Piping"
   ]
  },
  {
   "cell_type": "markdown",
   "metadata": {},
   "source": [
    "Piping, the feature that makes this better than `pandas`.  \n",
    "\n",
    "The pipe operator, `%>%`, comes from the `magrittr` library, but when you do `library(tidyverse)` it's already imported.\n",
    "\n",
    "- `x %>% f` is equivalent to f(x)\n",
    "- `x %>% f(y)` is equivalent to f(x,y)\n",
    "- `x %>% f %>% g %>% h` is equivalent to h(g(f(x)))"
   ]
  },
  {
   "cell_type": "code",
   "execution_count": 22,
   "metadata": {},
   "outputs": [],
   "source": [
    "# df_name_age <- select(titanic_df, Name, Age) is equivalent to\n",
    "df_name_age <- titanic_df %>% select(Name, Age)"
   ]
  },
  {
   "cell_type": "code",
   "execution_count": 23,
   "metadata": {},
   "outputs": [
    {
     "data": {
      "text/html": [
       "<table>\n",
       "<thead><tr><th scope=col>Name</th><th scope=col>Age</th></tr></thead>\n",
       "<tbody>\n",
       "\t<tr><td>Braund, Mr. Owen Harris                            </td><td>22                                                 </td></tr>\n",
       "\t<tr><td>Cumings, Mrs. John Bradley (Florence Briggs Thayer)</td><td>38                                                 </td></tr>\n",
       "\t<tr><td>Heikkinen, Miss. Laina                             </td><td>26                                                 </td></tr>\n",
       "\t<tr><td>Futrelle, Mrs. Jacques Heath (Lily May Peel)       </td><td>35                                                 </td></tr>\n",
       "\t<tr><td>Allen, Mr. William Henry                           </td><td>35                                                 </td></tr>\n",
       "\t<tr><td>Moran, Mr. James                                   </td><td>NA                                                 </td></tr>\n",
       "</tbody>\n",
       "</table>\n"
      ],
      "text/latex": [
       "\\begin{tabular}{r|ll}\n",
       " Name & Age\\\\\n",
       "\\hline\n",
       "\t Braund, Mr. Owen Harris                             & 22                                                 \\\\\n",
       "\t Cumings, Mrs. John Bradley (Florence Briggs Thayer) & 38                                                 \\\\\n",
       "\t Heikkinen, Miss. Laina                              & 26                                                 \\\\\n",
       "\t Futrelle, Mrs. Jacques Heath (Lily May Peel)        & 35                                                 \\\\\n",
       "\t Allen, Mr. William Henry                            & 35                                                 \\\\\n",
       "\t Moran, Mr. James                                    & NA                                                 \\\\\n",
       "\\end{tabular}\n"
      ],
      "text/markdown": [
       "\n",
       "Name | Age | \n",
       "|---|---|---|---|---|---|\n",
       "| Braund, Mr. Owen Harris                             | 22                                                  | \n",
       "| Cumings, Mrs. John Bradley (Florence Briggs Thayer) | 38                                                  | \n",
       "| Heikkinen, Miss. Laina                              | 26                                                  | \n",
       "| Futrelle, Mrs. Jacques Heath (Lily May Peel)        | 35                                                  | \n",
       "| Allen, Mr. William Henry                            | 35                                                  | \n",
       "| Moran, Mr. James                                    | NA                                                  | \n",
       "\n",
       "\n"
      ],
      "text/plain": [
       "  Name                                                Age\n",
       "1 Braund, Mr. Owen Harris                             22 \n",
       "2 Cumings, Mrs. John Bradley (Florence Briggs Thayer) 38 \n",
       "3 Heikkinen, Miss. Laina                              26 \n",
       "4 Futrelle, Mrs. Jacques Heath (Lily May Peel)        35 \n",
       "5 Allen, Mr. William Henry                            35 \n",
       "6 Moran, Mr. James                                    NA "
      ]
     },
     "metadata": {},
     "output_type": "display_data"
    }
   ],
   "source": [
    "head(df_name_age)"
   ]
  },
  {
   "cell_type": "code",
   "execution_count": 24,
   "metadata": {},
   "outputs": [
    {
     "data": {
      "text/html": [
       "<table>\n",
       "<thead><tr><th scope=col>Name</th></tr></thead>\n",
       "<tbody>\n",
       "\t<tr><td>Panula, Master. Eino Viljami   </td></tr>\n",
       "\t<tr><td>Goodwin, Master. Sidney Leonard</td></tr>\n",
       "</tbody>\n",
       "</table>\n"
      ],
      "text/latex": [
       "\\begin{tabular}{r|l}\n",
       " Name\\\\\n",
       "\\hline\n",
       "\t Panula, Master. Eino Viljami   \\\\\n",
       "\t Goodwin, Master. Sidney Leonard\\\\\n",
       "\\end{tabular}\n"
      ],
      "text/markdown": [
       "\n",
       "Name | \n",
       "|---|---|\n",
       "| Panula, Master. Eino Viljami    | \n",
       "| Goodwin, Master. Sidney Leonard | \n",
       "\n",
       "\n"
      ],
      "text/plain": [
       "  Name                           \n",
       "1 Panula, Master. Eino Viljami   \n",
       "2 Goodwin, Master. Sidney Leonard"
      ]
     },
     "metadata": {},
     "output_type": "display_data"
    }
   ],
   "source": [
    "titanic_df %>% filter(Age<2, Survived==0) %>% select(Name)\n",
    "# piping makes your code flat, instead of nesting stuff (flat structure is better than nested stuff)"
   ]
  },
  {
   "cell_type": "code",
   "execution_count": 25,
   "metadata": {},
   "outputs": [
    {
     "data": {
      "text/html": [
       "<table>\n",
       "<thead><tr><th scope=col>Sex</th><th scope=col>avg_age</th></tr></thead>\n",
       "<tbody>\n",
       "\t<tr><td>female  </td><td>27.91571</td></tr>\n",
       "\t<tr><td>male    </td><td>30.72664</td></tr>\n",
       "</tbody>\n",
       "</table>\n"
      ],
      "text/latex": [
       "\\begin{tabular}{r|ll}\n",
       " Sex & avg\\_age\\\\\n",
       "\\hline\n",
       "\t female   & 27.91571\\\\\n",
       "\t male     & 30.72664\\\\\n",
       "\\end{tabular}\n"
      ],
      "text/markdown": [
       "\n",
       "Sex | avg_age | \n",
       "|---|---|\n",
       "| female   | 27.91571 | \n",
       "| male     | 30.72664 | \n",
       "\n",
       "\n"
      ],
      "text/plain": [
       "  Sex    avg_age \n",
       "1 female 27.91571\n",
       "2 male   30.72664"
      ]
     },
     "metadata": {},
     "output_type": "display_data"
    }
   ],
   "source": [
    "# df %>% group_by(x,y,...) %>% summarize(p=f(z))\n",
    "titanic_df %>% group_by(Sex) %>% summarize(avg_age = mean(Age, na.rm=TRUE))"
   ]
  },
  {
   "cell_type": "code",
   "execution_count": 26,
   "metadata": {},
   "outputs": [
    {
     "data": {
      "text/html": [
       "<table>\n",
       "<thead><tr><th scope=col>Sex</th><th scope=col>avg_age</th><th scope=col>avg_fare</th></tr></thead>\n",
       "<tbody>\n",
       "\t<tr><td>female  </td><td>27.91571</td><td>44.47982</td></tr>\n",
       "\t<tr><td>male    </td><td>30.72664</td><td>25.52389</td></tr>\n",
       "</tbody>\n",
       "</table>\n"
      ],
      "text/latex": [
       "\\begin{tabular}{r|lll}\n",
       " Sex & avg\\_age & avg\\_fare\\\\\n",
       "\\hline\n",
       "\t female   & 27.91571 & 44.47982\\\\\n",
       "\t male     & 30.72664 & 25.52389\\\\\n",
       "\\end{tabular}\n"
      ],
      "text/markdown": [
       "\n",
       "Sex | avg_age | avg_fare | \n",
       "|---|---|\n",
       "| female   | 27.91571 | 44.47982 | \n",
       "| male     | 30.72664 | 25.52389 | \n",
       "\n",
       "\n"
      ],
      "text/plain": [
       "  Sex    avg_age  avg_fare\n",
       "1 female 27.91571 44.47982\n",
       "2 male   30.72664 25.52389"
      ]
     },
     "metadata": {},
     "output_type": "display_data"
    }
   ],
   "source": [
    "# you can add and add in your summarize()\n",
    "titanic_df %>% group_by(Sex) %>% summarize(avg_age = mean(Age, na.rm=TRUE), avg_fare = mean(Fare, na.rm=TRUE))"
   ]
  },
  {
   "cell_type": "markdown",
   "metadata": {},
   "source": [
    "### joins"
   ]
  },
  {
   "cell_type": "markdown",
   "metadata": {},
   "source": [
    "- `inner_join`\n",
    "- `left_join`\n",
    "- `right_join`\n",
    "- `full_join`\n",
    "  \n",
    "  \n",
    "- `semi_join` (it's like v-lookup in Excel)\n",
    "- `anti_join`"
   ]
  },
  {
   "cell_type": "markdown",
   "metadata": {},
   "source": [
    "Example of join:"
   ]
  },
  {
   "cell_type": "code",
   "execution_count": 27,
   "metadata": {},
   "outputs": [],
   "source": [
    "avg_age_df <- titanic_df %>% group_by(Sex) %>% summarize(avg_age = mean(Age, na.rm=TRUE))"
   ]
  },
  {
   "cell_type": "code",
   "execution_count": 28,
   "metadata": {},
   "outputs": [],
   "source": [
    "titanic_join_avg_age <- titanic_df %>% left_join(avg_age_df, by='Sex')"
   ]
  },
  {
   "cell_type": "code",
   "execution_count": 29,
   "metadata": {},
   "outputs": [],
   "source": [
    "titanic_avg_age_ratio <- titanic_join_avg_age %>% mutate(age_ratio=Age/avg_age)"
   ]
  },
  {
   "cell_type": "code",
   "execution_count": 30,
   "metadata": {
    "scrolled": true
   },
   "outputs": [
    {
     "data": {
      "text/html": [
       "<table>\n",
       "<thead><tr><th scope=col>PassengerId</th><th scope=col>Survived</th><th scope=col>Pclass</th><th scope=col>Name</th><th scope=col>Sex</th><th scope=col>Age</th><th scope=col>SibSp</th><th scope=col>Parch</th><th scope=col>Ticket</th><th scope=col>Fare</th><th scope=col>Cabin</th><th scope=col>Embarked</th><th scope=col>avg_age</th><th scope=col>age_ratio</th></tr></thead>\n",
       "<tbody>\n",
       "\t<tr><td>1                                                  </td><td>0                                                  </td><td>3                                                  </td><td>Braund, Mr. Owen Harris                            </td><td>male                                               </td><td>22                                                 </td><td>1                                                  </td><td>0                                                  </td><td>A/5 21171                                          </td><td> 7.2500                                            </td><td>                                                   </td><td>S                                                  </td><td>30.72664                                           </td><td>0.7159910                                          </td></tr>\n",
       "\t<tr><td>2                                                  </td><td>1                                                  </td><td>1                                                  </td><td>Cumings, Mrs. John Bradley (Florence Briggs Thayer)</td><td>female                                             </td><td>38                                                 </td><td>1                                                  </td><td>0                                                  </td><td>PC 17599                                           </td><td>71.2833                                            </td><td>C85                                                </td><td>C                                                  </td><td>27.91571                                           </td><td>1.3612407                                          </td></tr>\n",
       "\t<tr><td>3                                                  </td><td>1                                                  </td><td>3                                                  </td><td>Heikkinen, Miss. Laina                             </td><td>female                                             </td><td>26                                                 </td><td>0                                                  </td><td>0                                                  </td><td>STON/O2. 3101282                                   </td><td> 7.9250                                            </td><td>                                                   </td><td>S                                                  </td><td>27.91571                                           </td><td>0.9313752                                          </td></tr>\n",
       "\t<tr><td>4                                                  </td><td>1                                                  </td><td>1                                                  </td><td>Futrelle, Mrs. Jacques Heath (Lily May Peel)       </td><td>female                                             </td><td>35                                                 </td><td>1                                                  </td><td>0                                                  </td><td>113803                                             </td><td>53.1000                                            </td><td>C123                                               </td><td>S                                                  </td><td>27.91571                                           </td><td>1.2537744                                          </td></tr>\n",
       "\t<tr><td>5                                                  </td><td>0                                                  </td><td>3                                                  </td><td>Allen, Mr. William Henry                           </td><td>male                                               </td><td>35                                                 </td><td>0                                                  </td><td>0                                                  </td><td>373450                                             </td><td> 8.0500                                            </td><td>                                                   </td><td>S                                                  </td><td>30.72664                                           </td><td>1.1390765                                          </td></tr>\n",
       "\t<tr><td>6                                                  </td><td>0                                                  </td><td>3                                                  </td><td>Moran, Mr. James                                   </td><td>male                                               </td><td>NA                                                 </td><td>0                                                  </td><td>0                                                  </td><td>330877                                             </td><td> 8.4583                                            </td><td>                                                   </td><td>Q                                                  </td><td>30.72664                                           </td><td>       NA                                          </td></tr>\n",
       "</tbody>\n",
       "</table>\n"
      ],
      "text/latex": [
       "\\begin{tabular}{r|llllllllllllll}\n",
       " PassengerId & Survived & Pclass & Name & Sex & Age & SibSp & Parch & Ticket & Fare & Cabin & Embarked & avg\\_age & age\\_ratio\\\\\n",
       "\\hline\n",
       "\t 1                                                   & 0                                                   & 3                                                   & Braund, Mr. Owen Harris                             & male                                                & 22                                                  & 1                                                   & 0                                                   & A/5 21171                                           &  7.2500                                             &                                                     & S                                                   & 30.72664                                            & 0.7159910                                          \\\\\n",
       "\t 2                                                   & 1                                                   & 1                                                   & Cumings, Mrs. John Bradley (Florence Briggs Thayer) & female                                              & 38                                                  & 1                                                   & 0                                                   & PC 17599                                            & 71.2833                                             & C85                                                 & C                                                   & 27.91571                                            & 1.3612407                                          \\\\\n",
       "\t 3                                                   & 1                                                   & 3                                                   & Heikkinen, Miss. Laina                              & female                                              & 26                                                  & 0                                                   & 0                                                   & STON/O2. 3101282                                    &  7.9250                                             &                                                     & S                                                   & 27.91571                                            & 0.9313752                                          \\\\\n",
       "\t 4                                                   & 1                                                   & 1                                                   & Futrelle, Mrs. Jacques Heath (Lily May Peel)        & female                                              & 35                                                  & 1                                                   & 0                                                   & 113803                                              & 53.1000                                             & C123                                                & S                                                   & 27.91571                                            & 1.2537744                                          \\\\\n",
       "\t 5                                                   & 0                                                   & 3                                                   & Allen, Mr. William Henry                            & male                                                & 35                                                  & 0                                                   & 0                                                   & 373450                                              &  8.0500                                             &                                                     & S                                                   & 30.72664                                            & 1.1390765                                          \\\\\n",
       "\t 6                                                   & 0                                                   & 3                                                   & Moran, Mr. James                                    & male                                                & NA                                                  & 0                                                   & 0                                                   & 330877                                              &  8.4583                                             &                                                     & Q                                                   & 30.72664                                            &        NA                                          \\\\\n",
       "\\end{tabular}\n"
      ],
      "text/markdown": [
       "\n",
       "PassengerId | Survived | Pclass | Name | Sex | Age | SibSp | Parch | Ticket | Fare | Cabin | Embarked | avg_age | age_ratio | \n",
       "|---|---|---|---|---|---|\n",
       "| 1                                                   | 0                                                   | 3                                                   | Braund, Mr. Owen Harris                             | male                                                | 22                                                  | 1                                                   | 0                                                   | A/5 21171                                           |  7.2500                                             |                                                     | S                                                   | 30.72664                                            | 0.7159910                                           | \n",
       "| 2                                                   | 1                                                   | 1                                                   | Cumings, Mrs. John Bradley (Florence Briggs Thayer) | female                                              | 38                                                  | 1                                                   | 0                                                   | PC 17599                                            | 71.2833                                             | C85                                                 | C                                                   | 27.91571                                            | 1.3612407                                           | \n",
       "| 3                                                   | 1                                                   | 3                                                   | Heikkinen, Miss. Laina                              | female                                              | 26                                                  | 0                                                   | 0                                                   | STON/O2. 3101282                                    |  7.9250                                             |                                                     | S                                                   | 27.91571                                            | 0.9313752                                           | \n",
       "| 4                                                   | 1                                                   | 1                                                   | Futrelle, Mrs. Jacques Heath (Lily May Peel)        | female                                              | 35                                                  | 1                                                   | 0                                                   | 113803                                              | 53.1000                                             | C123                                                | S                                                   | 27.91571                                            | 1.2537744                                           | \n",
       "| 5                                                   | 0                                                   | 3                                                   | Allen, Mr. William Henry                            | male                                                | 35                                                  | 0                                                   | 0                                                   | 373450                                              |  8.0500                                             |                                                     | S                                                   | 30.72664                                            | 1.1390765                                           | \n",
       "| 6                                                   | 0                                                   | 3                                                   | Moran, Mr. James                                    | male                                                | NA                                                  | 0                                                   | 0                                                   | 330877                                              |  8.4583                                             |                                                     | Q                                                   | 30.72664                                            |        NA                                           | \n",
       "\n",
       "\n"
      ],
      "text/plain": [
       "  PassengerId Survived Pclass\n",
       "1 1           0        3     \n",
       "2 2           1        1     \n",
       "3 3           1        3     \n",
       "4 4           1        1     \n",
       "5 5           0        3     \n",
       "6 6           0        3     \n",
       "  Name                                                Sex    Age SibSp Parch\n",
       "1 Braund, Mr. Owen Harris                             male   22  1     0    \n",
       "2 Cumings, Mrs. John Bradley (Florence Briggs Thayer) female 38  1     0    \n",
       "3 Heikkinen, Miss. Laina                              female 26  0     0    \n",
       "4 Futrelle, Mrs. Jacques Heath (Lily May Peel)        female 35  1     0    \n",
       "5 Allen, Mr. William Henry                            male   35  0     0    \n",
       "6 Moran, Mr. James                                    male   NA  0     0    \n",
       "  Ticket           Fare    Cabin Embarked avg_age  age_ratio\n",
       "1 A/5 21171         7.2500       S        30.72664 0.7159910\n",
       "2 PC 17599         71.2833 C85   C        27.91571 1.3612407\n",
       "3 STON/O2. 3101282  7.9250       S        27.91571 0.9313752\n",
       "4 113803           53.1000 C123  S        27.91571 1.2537744\n",
       "5 373450            8.0500       S        30.72664 1.1390765\n",
       "6 330877            8.4583       Q        30.72664        NA"
      ]
     },
     "metadata": {},
     "output_type": "display_data"
    }
   ],
   "source": [
    "head(titanic_avg_age_ratio)"
   ]
  },
  {
   "cell_type": "code",
   "execution_count": 31,
   "metadata": {},
   "outputs": [],
   "source": [
    "# now, a one-line solution using the pipe operator\n",
    "titanic_avg_age_ratio <- titanic_df %>% \n",
    "    group_by(Sex) %>% \n",
    "    summarize(avg_age=mean(Age,na.rm=TRUE)) %>% \n",
    "    right_join(titanic_df,by='Sex') %>% \n",
    "    mutate(age_ratio=Age/avg_age)"
   ]
  },
  {
   "cell_type": "markdown",
   "metadata": {},
   "source": [
    "### Resources\n",
    "\n",
    "- https://edav.info/\n",
    "- cdss_execs@columbia.edu"
   ]
  }
 ],
 "metadata": {
  "kernelspec": {
   "display_name": "R",
   "language": "R",
   "name": "ir"
  },
  "language_info": {
   "codemirror_mode": "r",
   "file_extension": ".r",
   "mimetype": "text/x-r-source",
   "name": "R",
   "pygments_lexer": "r",
   "version": "3.5.0"
  }
 },
 "nbformat": 4,
 "nbformat_minor": 2
}
